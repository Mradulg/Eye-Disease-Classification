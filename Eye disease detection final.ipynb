{
 "cells": [
  {
   "cell_type": "markdown",
   "metadata": {
    "id": "3DR-eO17geWu"
   },
   "source": [
    "# Convolutional Neural Network"
   ]
  },
  {
   "cell_type": "markdown",
   "metadata": {
    "id": "EMefrVPCg-60"
   },
   "source": [
    "### Importing the libraries"
   ]
  },
  {
   "cell_type": "code",
   "execution_count": 1,
   "metadata": {
    "id": "sCV30xyVhFbE"
   },
   "outputs": [],
   "source": [
    "import tensorflow as tf\n",
    "from keras.preprocessing.image import ImageDataGenerator"
   ]
  },
  {
   "cell_type": "code",
   "execution_count": 2,
   "metadata": {
    "id": "FIleuCAjoFD8"
   },
   "outputs": [
    {
     "data": {
      "text/plain": [
       "'2.15.0'"
      ]
     },
     "execution_count": 2,
     "metadata": {},
     "output_type": "execute_result"
    }
   ],
   "source": [
    "tf.__version__"
   ]
  },
  {
   "cell_type": "markdown",
   "metadata": {
    "id": "oxQxCBWyoGPE"
   },
   "source": [
    "## Part 1 - Data Preprocessing"
   ]
  },
  {
   "cell_type": "markdown",
   "metadata": {
    "id": "MvE-heJNo3GG"
   },
   "source": [
    "### Preprocessing the Training set"
   ]
  },
  {
   "cell_type": "code",
   "execution_count": 3,
   "metadata": {
    "id": "0koUcJMJpEBD"
   },
   "outputs": [
    {
     "name": "stdout",
     "output_type": "stream",
     "text": [
      "Found 3814 images belonging to 4 classes.\n"
     ]
    }
   ],
   "source": [
    "train_datagen = ImageDataGenerator(rescale = 1./255,\n",
    "                                   shear_range = 0.2,\n",
    "                                   zoom_range = 0.2,\n",
    "                                   horizontal_flip = True)\n",
    "training_set = train_datagen.flow_from_directory('dataset/train',\n",
    "                                                 target_size = (64, 64),\n",
    "                                                 batch_size = 32,\n",
    "                                                 class_mode = 'categorical')"
   ]
  },
  {
   "cell_type": "markdown",
   "metadata": {
    "id": "mrCMmGw9pHys"
   },
   "source": [
    "### Preprocessing the Test set"
   ]
  },
  {
   "cell_type": "code",
   "execution_count": 4,
   "metadata": {
    "id": "SH4WzfOhpKc3"
   },
   "outputs": [
    {
     "name": "stdout",
     "output_type": "stream",
     "text": [
      "Found 403 images belonging to 4 classes.\n"
     ]
    }
   ],
   "source": [
    "test_datagen = ImageDataGenerator(rescale = 1./255)\n",
    "test_set = test_datagen.flow_from_directory('dataset/test',\n",
    "                                            target_size = (64, 64),\n",
    "                                            batch_size = 32,\n",
    "                                            class_mode = 'categorical')"
   ]
  },
  {
   "cell_type": "markdown",
   "metadata": {
    "id": "af8O4l90gk7B"
   },
   "source": [
    "## Part 2 - Building the CNN"
   ]
  },
  {
   "cell_type": "markdown",
   "metadata": {
    "id": "ces1gXY2lmoX"
   },
   "source": [
    "### Initialising the CNN"
   ]
  },
  {
   "cell_type": "code",
   "execution_count": 5,
   "metadata": {
    "id": "SAUt4UMPlhLS"
   },
   "outputs": [],
   "source": [
    "cnn = tf.keras.models.Sequential()"
   ]
  },
  {
   "cell_type": "markdown",
   "metadata": {
    "id": "u5YJj_XMl5LF"
   },
   "source": [
    "### Step 1 - Convolution"
   ]
  },
  {
   "cell_type": "code",
   "execution_count": 6,
   "metadata": {
    "id": "XPzPrMckl-hV"
   },
   "outputs": [],
   "source": [
    "cnn.add(tf.keras.layers.Conv2D(filters=32, kernel_size=3, activation='relu', input_shape=[64, 64, 3]))"
   ]
  },
  {
   "cell_type": "markdown",
   "metadata": {
    "id": "tf87FpvxmNOJ"
   },
   "source": [
    "### Step 2 - Pooling"
   ]
  },
  {
   "cell_type": "code",
   "execution_count": 7,
   "metadata": {
    "id": "ncpqPl69mOac"
   },
   "outputs": [],
   "source": [
    "cnn.add(tf.keras.layers.MaxPool2D(pool_size=2, strides=2))"
   ]
  },
  {
   "cell_type": "markdown",
   "metadata": {
    "id": "xaTOgD8rm4mU"
   },
   "source": [
    "### Adding a second convolutional layer"
   ]
  },
  {
   "cell_type": "code",
   "execution_count": 8,
   "metadata": {
    "id": "i_-FZjn_m8gk"
   },
   "outputs": [],
   "source": [
    "cnn.add(tf.keras.layers.Conv2D(filters=32, kernel_size=3, activation='relu'))\n",
    "cnn.add(tf.keras.layers.MaxPool2D(pool_size=2, strides=2))"
   ]
  },
  {
   "cell_type": "markdown",
   "metadata": {
    "id": "tmiEuvTunKfk"
   },
   "source": [
    "### Step 3 - Flattening"
   ]
  },
  {
   "cell_type": "code",
   "execution_count": 9,
   "metadata": {
    "id": "6AZeOGCvnNZn"
   },
   "outputs": [],
   "source": [
    "cnn.add(tf.keras.layers.Flatten())"
   ]
  },
  {
   "cell_type": "markdown",
   "metadata": {
    "id": "dAoSECOm203v"
   },
   "source": [
    "### Step 4 - Full Connection"
   ]
  },
  {
   "cell_type": "code",
   "execution_count": 10,
   "metadata": {
    "id": "8GtmUlLd26Nq"
   },
   "outputs": [],
   "source": [
    "cnn.add(tf.keras.layers.Dense(units=128, activation='relu'))"
   ]
  },
  {
   "cell_type": "markdown",
   "metadata": {
    "id": "yTldFvbX28Na"
   },
   "source": [
    "### Step 5 - Output Layer"
   ]
  },
  {
   "cell_type": "code",
   "execution_count": 11,
   "metadata": {
    "id": "1p_Zj1Mc3Ko_"
   },
   "outputs": [],
   "source": [
    "cnn.add(tf.keras.layers.Dense(units=4, activation='softmax'))"
   ]
  },
  {
   "cell_type": "markdown",
   "metadata": {
    "id": "D6XkI90snSDl"
   },
   "source": [
    "## Part 3 - Training the CNN"
   ]
  },
  {
   "cell_type": "markdown",
   "metadata": {
    "id": "vfrFQACEnc6i"
   },
   "source": [
    "### Compiling the CNN"
   ]
  },
  {
   "cell_type": "code",
   "execution_count": 12,
   "metadata": {
    "id": "NALksrNQpUlJ"
   },
   "outputs": [],
   "source": [
    "cnn.compile(optimizer = 'adam', loss = 'categorical_crossentropy', metrics = ['accuracy'])"
   ]
  },
  {
   "cell_type": "markdown",
   "metadata": {
    "id": "ehS-v3MIpX2h"
   },
   "source": [
    "### Training the CNN on the Training set and evaluating it on the Test set"
   ]
  },
  {
   "cell_type": "code",
   "execution_count": 13,
   "metadata": {
    "id": "XUj1W4PJptta"
   },
   "outputs": [
    {
     "name": "stdout",
     "output_type": "stream",
     "text": [
      "Epoch 1/25\n",
      "120/120 [==============================] - 22s 185ms/step - loss: 1.1947 - accuracy: 0.4643 - val_loss: 0.8166 - val_accuracy: 0.7295\n",
      "Epoch 2/25\n",
      "120/120 [==============================] - 22s 181ms/step - loss: 0.9775 - accuracy: 0.5784 - val_loss: 0.7219 - val_accuracy: 0.6625\n",
      "Epoch 3/25\n",
      "120/120 [==============================] - 22s 182ms/step - loss: 0.8677 - accuracy: 0.6311 - val_loss: 0.9035 - val_accuracy: 0.6228\n",
      "Epoch 4/25\n",
      "120/120 [==============================] - 22s 183ms/step - loss: 0.8032 - accuracy: 0.6683 - val_loss: 0.5836 - val_accuracy: 0.8189\n",
      "Epoch 5/25\n",
      "120/120 [==============================] - 22s 183ms/step - loss: 0.7253 - accuracy: 0.6898 - val_loss: 0.5458 - val_accuracy: 0.7891\n",
      "Epoch 6/25\n",
      "120/120 [==============================] - 22s 184ms/step - loss: 0.6727 - accuracy: 0.7226 - val_loss: 0.4260 - val_accuracy: 0.8511\n",
      "Epoch 7/25\n",
      "120/120 [==============================] - 23s 190ms/step - loss: 0.6417 - accuracy: 0.7441 - val_loss: 0.6017 - val_accuracy: 0.7444\n",
      "Epoch 8/25\n",
      "120/120 [==============================] - 22s 185ms/step - loss: 0.5879 - accuracy: 0.7614 - val_loss: 0.3805 - val_accuracy: 0.8387\n",
      "Epoch 9/25\n",
      "120/120 [==============================] - 22s 186ms/step - loss: 0.5794 - accuracy: 0.7664 - val_loss: 0.4282 - val_accuracy: 0.8486\n",
      "Epoch 10/25\n",
      "120/120 [==============================] - 22s 185ms/step - loss: 0.5659 - accuracy: 0.7711 - val_loss: 0.4485 - val_accuracy: 0.8263\n",
      "Epoch 11/25\n",
      "120/120 [==============================] - 22s 184ms/step - loss: 0.5322 - accuracy: 0.7905 - val_loss: 0.4130 - val_accuracy: 0.8437\n",
      "Epoch 12/25\n",
      "120/120 [==============================] - 22s 184ms/step - loss: 0.5068 - accuracy: 0.8005 - val_loss: 0.3373 - val_accuracy: 0.8759\n",
      "Epoch 13/25\n",
      "120/120 [==============================] - 22s 188ms/step - loss: 0.4851 - accuracy: 0.8081 - val_loss: 0.5090 - val_accuracy: 0.8238\n",
      "Epoch 14/25\n",
      "120/120 [==============================] - 22s 188ms/step - loss: 0.4977 - accuracy: 0.8007 - val_loss: 0.4288 - val_accuracy: 0.8288\n",
      "Epoch 15/25\n",
      "120/120 [==============================] - 22s 184ms/step - loss: 0.4583 - accuracy: 0.8207 - val_loss: 0.4765 - val_accuracy: 0.8288\n",
      "Epoch 16/25\n",
      "120/120 [==============================] - 22s 183ms/step - loss: 0.4490 - accuracy: 0.8193 - val_loss: 0.5056 - val_accuracy: 0.8164\n",
      "Epoch 17/25\n",
      "120/120 [==============================] - 22s 184ms/step - loss: 0.4483 - accuracy: 0.8235 - val_loss: 0.4116 - val_accuracy: 0.8511\n",
      "Epoch 18/25\n",
      "120/120 [==============================] - 22s 183ms/step - loss: 0.4307 - accuracy: 0.8322 - val_loss: 0.6605 - val_accuracy: 0.7618\n",
      "Epoch 19/25\n",
      "120/120 [==============================] - 22s 183ms/step - loss: 0.4137 - accuracy: 0.8314 - val_loss: 0.3393 - val_accuracy: 0.8710\n",
      "Epoch 20/25\n",
      "120/120 [==============================] - 22s 182ms/step - loss: 0.4187 - accuracy: 0.8380 - val_loss: 0.3800 - val_accuracy: 0.8734\n",
      "Epoch 21/25\n",
      "120/120 [==============================] - 22s 183ms/step - loss: 0.4110 - accuracy: 0.8374 - val_loss: 0.5158 - val_accuracy: 0.8040\n",
      "Epoch 22/25\n",
      "120/120 [==============================] - 22s 183ms/step - loss: 0.3925 - accuracy: 0.8469 - val_loss: 0.3012 - val_accuracy: 0.8958\n",
      "Epoch 23/25\n",
      "120/120 [==============================] - 22s 185ms/step - loss: 0.3890 - accuracy: 0.8534 - val_loss: 1.2315 - val_accuracy: 0.6055\n",
      "Epoch 24/25\n",
      "120/120 [==============================] - 23s 193ms/step - loss: 0.3868 - accuracy: 0.8487 - val_loss: 0.7429 - val_accuracy: 0.7469\n",
      "Epoch 25/25\n",
      "120/120 [==============================] - 23s 196ms/step - loss: 0.3607 - accuracy: 0.8629 - val_loss: 0.5362 - val_accuracy: 0.8164\n"
     ]
    },
    {
     "data": {
      "text/plain": [
       "<keras.src.callbacks.History at 0x15d3d0990>"
      ]
     },
     "execution_count": 13,
     "metadata": {},
     "output_type": "execute_result"
    }
   ],
   "source": [
    "cnn.fit(x = training_set, validation_data = test_set, epochs = 25)"
   ]
  },
  {
   "cell_type": "markdown",
   "metadata": {
    "id": "U3PZasO0006Z"
   },
   "source": [
    "## Part 4 - Making a single prediction"
   ]
  },
  {
   "cell_type": "code",
   "execution_count": 45,
   "metadata": {
    "id": "gsSiWEJY1BPB"
   },
   "outputs": [
    {
     "name": "stdout",
     "output_type": "stream",
     "text": [
      "1/1 [==============================] - 0s 16ms/step\n"
     ]
    },
    {
     "data": {
      "text/plain": [
       "{'cataract': 0, 'diabetic_retinopathy': 1, 'glaucoma': 2, 'normal': 3}"
      ]
     },
     "execution_count": 45,
     "metadata": {},
     "output_type": "execute_result"
    }
   ],
   "source": [
    "import numpy as np\n",
    "from keras.preprocessing import image\n",
    "test_image = image.load_img('dataset/single prediction/c1.jpg', target_size = (64, 64))\n",
    "test_image = image.img_to_array(test_image)\n",
    "test_image = np.expand_dims(test_image, axis = 0)\n",
    "result = cnn.predict(test_image)\n",
    "training_set.class_indices\n"
   ]
  },
  {
   "cell_type": "code",
   "execution_count": 46,
   "metadata": {
    "id": "ED9KB3I54c1i"
   },
   "outputs": [
    {
     "name": "stdout",
     "output_type": "stream",
     "text": [
      "[[1. 0. 0. 0.]]\n"
     ]
    }
   ],
   "source": [
    "print(result)"
   ]
  },
  {
   "cell_type": "code",
   "execution_count": null,
   "metadata": {},
   "outputs": [],
   "source": []
  }
 ],
 "metadata": {
  "colab": {
   "provenance": []
  },
  "kernelspec": {
   "display_name": "Python 3 (ipykernel)",
   "language": "python",
   "name": "python3"
  },
  "language_info": {
   "codemirror_mode": {
    "name": "ipython",
    "version": 3
   },
   "file_extension": ".py",
   "mimetype": "text/x-python",
   "name": "python",
   "nbconvert_exporter": "python",
   "pygments_lexer": "ipython3",
   "version": "3.11.5"
  }
 },
 "nbformat": 4,
 "nbformat_minor": 1
}
